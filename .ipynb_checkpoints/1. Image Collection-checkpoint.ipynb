{
 "cells": [
  {
   "cell_type": "markdown",
   "metadata": {},
   "source": [
    "# 1. Import Dependencies"
   ]
  },
  {
   "cell_type": "code",
   "execution_count": 1,
   "metadata": {},
   "outputs": [
    {
     "name": "stdout",
     "output_type": "stream",
     "text": [
      "Collecting opencv-python\n",
      "  Downloading opencv_python-4.5.5.64-cp36-abi3-win_amd64.whl (35.4 MB)\n",
      "     ---------------------------------------- 35.4/35.4 MB 1.5 MB/s eta 0:00:00\n",
      "Collecting numpy>=1.14.5\n",
      "  Downloading numpy-1.22.3-cp38-cp38-win_amd64.whl (14.7 MB)\n",
      "     -------------------------------------- 14.7/14.7 MB 925.0 kB/s eta 0:00:00\n",
      "Installing collected packages: numpy, opencv-python\n",
      "Successfully installed numpy-1.22.3 opencv-python-4.5.5.64\n"
     ]
    }
   ],
   "source": [
    "!pip install opencv-python"
   ]
  },
  {
   "cell_type": "code",
   "execution_count": 1,
   "metadata": {},
   "outputs": [
    {
     "name": "stdout",
     "output_type": "stream",
     "text": [
      "Package           Version\n",
      "----------------- --------\n",
      "asttokens         2.0.5\n",
      "backcall          0.2.0\n",
      "colorama          0.4.4\n",
      "debugpy           1.5.1\n",
      "decorator         5.1.1\n",
      "entrypoints       0.4\n",
      "executing         0.8.3\n",
      "ipykernel         6.9.2\n",
      "ipython           8.1.1\n",
      "jedi              0.18.1\n",
      "jupyter-client    7.1.2\n",
      "jupyter-core      4.9.2\n",
      "lxml              4.8.0\n",
      "matplotlib-inline 0.1.3\n",
      "nest-asyncio      1.5.4\n",
      "numpy             1.22.3\n",
      "opencv-python     4.5.5.64\n",
      "parso             0.8.3\n",
      "pickleshare       0.7.5\n",
      "pip               22.0.4\n",
      "prompt-toolkit    3.0.28\n",
      "psutil            5.9.0\n",
      "pure-eval         0.2.2\n",
      "Pygments          2.11.2\n",
      "PyQt5             5.15.6\n",
      "PyQt5-Qt5         5.15.2\n",
      "PyQt5-sip         12.9.1\n",
      "python-dateutil   2.8.2\n",
      "pywin32           303\n",
      "pyzmq             22.3.0\n",
      "setuptools        49.2.1\n",
      "six               1.16.0\n",
      "stack-data        0.2.0\n",
      "tornado           6.1\n",
      "traitlets         5.1.1\n",
      "wcwidth           0.2.5\n"
     ]
    }
   ],
   "source": [
    "!pip list"
   ]
  },
  {
   "cell_type": "code",
   "execution_count": 2,
   "metadata": {},
   "outputs": [],
   "source": [
    "# Import opencv\n",
    "import cv2 \n",
    "\n",
    "# Import uuid\n",
    "import uuid\n",
    "\n",
    "# Import Operating System\n",
    "import os\n",
    "\n",
    "# Import time\n",
    "import time"
   ]
  },
  {
   "cell_type": "markdown",
   "metadata": {},
   "source": [
    "# 2. Define Images to Collect"
   ]
  },
  {
   "cell_type": "code",
   "execution_count": 14,
   "metadata": {},
   "outputs": [],
   "source": [
    "labels = ['thumbsup', 'thumbsdown', 'thankyou', 'livelong']\n",
    "# labels = ['livelong']\n",
    "number_imgs = 5"
   ]
  },
  {
   "cell_type": "markdown",
   "metadata": {},
   "source": [
    "# 3. Setup Folders "
   ]
  },
  {
   "cell_type": "code",
   "execution_count": 4,
   "metadata": {},
   "outputs": [],
   "source": [
    "IMAGES_PATH = os.path.join('Tensorflow', 'workspace', 'images', 'collectedimages')"
   ]
  },
  {
   "cell_type": "code",
   "execution_count": 5,
   "metadata": {},
   "outputs": [
    {
     "name": "stdout",
     "output_type": "stream",
     "text": [
      "Tensorflow\\workspace\\images\\collectedimages\n"
     ]
    }
   ],
   "source": [
    "print(IMAGES_PATH)"
   ]
  },
  {
   "cell_type": "code",
   "execution_count": 6,
   "metadata": {},
   "outputs": [],
   "source": [
    "if not os.path.exists(IMAGES_PATH):\n",
    "    if os.name == 'posix':\n",
    "        !mkdir -p {IMAGES_PATH}\n",
    "    if os.name == 'nt':\n",
    "         !mkdir {IMAGES_PATH}\n",
    "for label in labels:\n",
    "    path = os.path.join(IMAGES_PATH, label)\n",
    "    if not os.path.exists(path):\n",
    "        !mkdir {path}"
   ]
  },
  {
   "cell_type": "markdown",
   "metadata": {},
   "source": [
    "# 4. Capture Images"
   ]
  },
  {
   "cell_type": "code",
   "execution_count": 13,
   "metadata": {},
   "outputs": [
    {
     "name": "stdout",
     "output_type": "stream",
     "text": [
      "Collecting images for livelong\n",
      "Collecting image 0\n",
      "Collecting image 1\n",
      "Collecting image 2\n",
      "Collecting image 3\n",
      "Collecting image 4\n"
     ]
    }
   ],
   "source": [
    "for label in labels:\n",
    "    cap = cv2.VideoCapture(0)\n",
    "    print('Collecting images for {}'.format(label))\n",
    "    time.sleep(5)\n",
    "    for imgnum in range(number_imgs):\n",
    "        print('Collecting image {}'.format(imgnum))\n",
    "        ret, frame = cap.read()\n",
    "        imgname = os.path.join(IMAGES_PATH,label,label+'.'+'{}.jpg'.format(str(uuid.uuid1())))\n",
    "        cv2.imwrite(imgname, frame)\n",
    "        cv2.imshow('frame', frame)\n",
    "        time.sleep(2)\n",
    "\n",
    "        if cv2.waitKey(1) & 0xFF == ord('q'):\n",
    "            break\n",
    "cap.release()\n",
    "cv2.destroyAllWindows()"
   ]
  },
  {
   "cell_type": "markdown",
   "metadata": {},
   "source": [
    "# 5. Image Labelling"
   ]
  },
  {
   "cell_type": "code",
   "execution_count": 9,
   "metadata": {},
   "outputs": [
    {
     "name": "stdout",
     "output_type": "stream",
     "text": [
      "Collecting pyqt5\n",
      "  Downloading PyQt5-5.15.6-cp36-abi3-win_amd64.whl (6.7 MB)\n",
      "     ---------------------------------------- 6.7/6.7 MB 2.2 MB/s eta 0:00:00\n",
      "Collecting lxml\n",
      "  Downloading lxml-4.8.0-cp38-cp38-win_amd64.whl (3.6 MB)\n",
      "     ---------------------------------------- 3.6/3.6 MB 990.6 kB/s eta 0:00:00\n",
      "Collecting PyQt5-sip<13,>=12.8\n",
      "  Downloading PyQt5_sip-12.9.1-cp38-cp38-win_amd64.whl (77 kB)\n",
      "     ---------------------------------------- 77.5/77.5 KB 4.5 MB/s eta 0:00:00\n",
      "Collecting PyQt5-Qt5>=5.15.2\n",
      "  Downloading PyQt5_Qt5-5.15.2-py3-none-win_amd64.whl (50.1 MB)\n",
      "     ---------------------------------------- 50.1/50.1 MB 4.8 MB/s eta 0:00:00\n",
      "Installing collected packages: PyQt5-Qt5, PyQt5-sip, lxml, pyqt5\n",
      "Successfully installed PyQt5-Qt5-5.15.2 PyQt5-sip-12.9.1 lxml-4.8.0 pyqt5-5.15.6\n"
     ]
    }
   ],
   "source": [
    "!pip install --upgrade pyqt5 lxml"
   ]
  },
  {
   "cell_type": "code",
   "execution_count": 7,
   "metadata": {},
   "outputs": [],
   "source": [
    "LABELIMG_PATH = os.path.join('Tensorflow', 'labelimg')"
   ]
  },
  {
   "cell_type": "code",
   "execution_count": 8,
   "metadata": {},
   "outputs": [],
   "source": [
    "if not os.path.exists(LABELIMG_PATH):\n",
    "    !mkdir {LABELIMG_PATH}\n",
    "    !git clone https://github.com/tzutalin/labelImg {LABELIMG_PATH}"
   ]
  },
  {
   "cell_type": "code",
   "execution_count": 9,
   "metadata": {},
   "outputs": [],
   "source": [
    "if os.name == 'posix':\n",
    "    !cd {LABELIMG_PATH} && make qt5py3\n",
    "if os.name =='nt':\n",
    "    !cd {LABELIMG_PATH} && pyrcc5 -o libs/resources.py resources.qrc"
   ]
  },
  {
   "cell_type": "code",
   "execution_count": 15,
   "metadata": {},
   "outputs": [
    {
     "name": "stdout",
     "output_type": "stream",
     "text": [
      "Image:D:\\object_detection\\TFODCourse\\Tensorflow\\workspace\\images\\collectedimages\\livelong\\livelong.7ac98d53-a74c-11ec-895e-54bf641aee74.jpg -> Annotation:D:/object_detection/TFODCourse/Tensorflow/workspace/images/collectedimages/livelong/livelong.7ac98d53-a74c-11ec-895e-54bf641aee74.xml\n",
      "Image:D:\\object_detection\\TFODCourse\\Tensorflow\\workspace\\images\\collectedimages\\livelong\\livelong.7bfea2f3-a74c-11ec-9d71-54bf641aee74.jpg -> Annotation:D:/object_detection/TFODCourse/Tensorflow/workspace/images/collectedimages/livelong/livelong.7bfea2f3-a74c-11ec-9d71-54bf641aee74.xml\n",
      "Image:D:\\object_detection\\TFODCourse\\Tensorflow\\workspace\\images\\collectedimages\\livelong\\livelong.7712dd84-a74c-11ec-bd5a-54bf641aee74.jpg -> Annotation:D:/object_detection/TFODCourse/Tensorflow/workspace/images/collectedimages/livelong/livelong.7712dd84-a74c-11ec-bd5a-54bf641aee74.xml\n",
      "Image:D:\\object_detection\\TFODCourse\\Tensorflow\\workspace\\images\\collectedimages\\livelong\\livelong.7859d4c7-a74c-11ec-8dd2-54bf641aee74.jpg -> Annotation:D:/object_detection/TFODCourse/Tensorflow/workspace/images/collectedimages/livelong/livelong.7859d4c7-a74c-11ec-8dd2-54bf641aee74.xml\n",
      "Image:D:\\object_detection\\TFODCourse\\Tensorflow\\workspace\\images\\collectedimages\\livelong\\livelong.79935ecd-a74c-11ec-bed2-54bf641aee74.jpg -> Annotation:D:/object_detection/TFODCourse/Tensorflow/workspace/images/collectedimages/livelong/livelong.79935ecd-a74c-11ec-bed2-54bf641aee74.xml\n",
      "Image:D:\\object_detection\\TFODCourse\\Tensorflow\\workspace\\images\\collectedimages\\thankyou\\thankyou.f9b60477-a6ef-11ec-8970-54bf641aee74.jpg -> Annotation:D:/object_detection/TFODCourse/Tensorflow/workspace/images/collectedimages/thankyou/thankyou.f9b60477-a6ef-11ec-8970-54bf641aee74.xml\n",
      "Image:D:\\object_detection\\TFODCourse\\Tensorflow\\workspace\\images\\collectedimages\\thankyou\\thankyou.f881182c-a6ef-11ec-90cb-54bf641aee74.jpg -> Annotation:D:/object_detection/TFODCourse/Tensorflow/workspace/images/collectedimages/thankyou/thankyou.f881182c-a6ef-11ec-90cb-54bf641aee74.xml\n",
      "Image:D:\\object_detection\\TFODCourse\\Tensorflow\\workspace\\images\\collectedimages\\thankyou\\thankyou.faeb959b-a6ef-11ec-9c92-54bf641aee74.jpg -> Annotation:D:/object_detection/TFODCourse/Tensorflow/workspace/images/collectedimages/thankyou/thankyou.faeb959b-a6ef-11ec-9c92-54bf641aee74.xml\n",
      "Image:D:\\object_detection\\TFODCourse\\Tensorflow\\workspace\\images\\collectedimages\\thankyou\\thankyou.fc20fa13-a6ef-11ec-b387-54bf641aee74.jpg -> Annotation:D:/object_detection/TFODCourse/Tensorflow/workspace/images/collectedimages/thankyou/thankyou.fc20fa13-a6ef-11ec-b387-54bf641aee74.xml\n",
      "Image:D:\\object_detection\\TFODCourse\\Tensorflow\\workspace\\images\\collectedimages\\thankyou\\thankyou.fd568c09-a6ef-11ec-ab92-54bf641aee74.jpg -> Annotation:D:/object_detection/TFODCourse/Tensorflow/workspace/images/collectedimages/thankyou/thankyou.fd568c09-a6ef-11ec-ab92-54bf641aee74.xml\n",
      "Image:D:\\object_detection\\TFODCourse\\Tensorflow\\workspace\\images\\collectedimages\\thumbsdown\\thumbsdown.eeae6dfc-a6ef-11ec-b019-54bf641aee74.jpg -> Annotation:D:/object_detection/TFODCourse/Tensorflow/workspace/images/collectedimages/thumbsdown/thumbsdown.eeae6dfc-a6ef-11ec-b019-54bf641aee74.xml\n",
      "Image:D:\\object_detection\\TFODCourse\\Tensorflow\\workspace\\images\\collectedimages\\thumbsdown\\thumbsdown.efe2eec9-a6ef-11ec-9736-54bf641aee74.jpg -> Annotation:D:/object_detection/TFODCourse/Tensorflow/workspace/images/collectedimages/thumbsdown/thumbsdown.efe2eec9-a6ef-11ec-9736-54bf641aee74.xml\n",
      "Image:D:\\object_detection\\TFODCourse\\Tensorflow\\workspace\\images\\collectedimages\\thumbsdown\\thumbsdown.f24dea44-a6ef-11ec-9b34-54bf641aee74.jpg -> Annotation:D:/object_detection/TFODCourse/Tensorflow/workspace/images/collectedimages/thumbsdown/thumbsdown.f24dea44-a6ef-11ec-9b34-54bf641aee74.xml\n",
      "Image:D:\\object_detection\\TFODCourse\\Tensorflow\\workspace\\images\\collectedimages\\thumbsdown\\thumbsdown.f3824aca-a6ef-11ec-9f9f-54bf641aee74.jpg -> Annotation:D:/object_detection/TFODCourse/Tensorflow/workspace/images/collectedimages/thumbsdown/thumbsdown.f3824aca-a6ef-11ec-9f9f-54bf641aee74.xml\n",
      "Image:D:\\object_detection\\TFODCourse\\Tensorflow\\workspace\\images\\collectedimages\\thumbsdown\\thumbsdown.f11854a7-a6ef-11ec-b294-54bf641aee74.jpg -> Annotation:D:/object_detection/TFODCourse/Tensorflow/workspace/images/collectedimages/thumbsdown/thumbsdown.f11854a7-a6ef-11ec-b294-54bf641aee74.xml\n",
      "Image:D:\\object_detection\\TFODCourse\\Tensorflow\\workspace\\images\\collectedimages\\thumbsup\\thumbsup.e5a7a461-a6ef-11ec-8b00-54bf641aee74.jpg -> Annotation:D:/object_detection/TFODCourse/Tensorflow/workspace/images/collectedimages/thumbsup/thumbsup.e5a7a461-a6ef-11ec-8b00-54bf641aee74.xml\n",
      "Image:D:\\object_detection\\TFODCourse\\Tensorflow\\workspace\\images\\collectedimages\\thumbsup\\thumbsup.e6de0506-a6ef-11ec-84e5-54bf641aee74.jpg -> Annotation:D:/object_detection/TFODCourse/Tensorflow/workspace/images/collectedimages/thumbsup/thumbsup.e6de0506-a6ef-11ec-84e5-54bf641aee74.xml\n",
      "Image:D:\\object_detection\\TFODCourse\\Tensorflow\\workspace\\images\\collectedimages\\thumbsup\\thumbsup.e46dc070-a6ef-11ec-ac41-54bf641aee74.jpg -> Annotation:D:/object_detection/TFODCourse/Tensorflow/workspace/images/collectedimages/thumbsup/thumbsup.e46dc070-a6ef-11ec-ac41-54bf641aee74.xml\n",
      "Image:D:\\object_detection\\TFODCourse\\Tensorflow\\workspace\\images\\collectedimages\\thumbsup\\thumbsup.e811f088-a6ef-11ec-8ae9-54bf641aee74.jpg -> Annotation:D:/object_detection/TFODCourse/Tensorflow/workspace/images/collectedimages/thumbsup/thumbsup.e811f088-a6ef-11ec-8ae9-54bf641aee74.xml\n",
      "Image:D:\\object_detection\\TFODCourse\\Tensorflow\\workspace\\images\\collectedimages\\thumbsup\\thumbsup.e9457f7c-a6ef-11ec-9f75-54bf641aee74.jpg -> Annotation:D:/object_detection/TFODCourse/Tensorflow/workspace/images/collectedimages/thumbsup/thumbsup.e9457f7c-a6ef-11ec-9f75-54bf641aee74.xml\n"
     ]
    }
   ],
   "source": [
    "!cd {LABELIMG_PATH} && python labelImg.py"
   ]
  },
  {
   "cell_type": "markdown",
   "metadata": {},
   "source": [
    "# 6. Move them into a Training and Testing Partition"
   ]
  },
  {
   "cell_type": "markdown",
   "metadata": {},
   "source": [
    "# OPTIONAL - 7. Compress them for Colab Training"
   ]
  },
  {
   "cell_type": "code",
   "execution_count": 20,
   "metadata": {},
   "outputs": [],
   "source": [
    "TRAIN_PATH = os.path.join('Tensorflow', 'workspace', 'images', 'train')\n",
    "TEST_PATH = os.path.join('Tensorflow', 'workspace', 'images', 'test')\n",
    "ARCHIVE_PATH = os.path.join('Tensorflow', 'workspace', 'images', 'archive.tar.gz')"
   ]
  },
  {
   "cell_type": "code",
   "execution_count": 21,
   "metadata": {},
   "outputs": [],
   "source": [
    "!tar -czf {ARCHIVE_PATH} {TRAIN_PATH} {TEST_PATH}"
   ]
  },
  {
   "cell_type": "code",
   "execution_count": null,
   "metadata": {},
   "outputs": [],
   "source": []
  }
 ],
 "metadata": {
  "kernelspec": {
   "display_name": "tfod",
   "language": "python",
   "name": "tfod"
  },
  "language_info": {
   "codemirror_mode": {
    "name": "ipython",
    "version": 3
   },
   "file_extension": ".py",
   "mimetype": "text/x-python",
   "name": "python",
   "nbconvert_exporter": "python",
   "pygments_lexer": "ipython3",
   "version": "3.8.8"
  }
 },
 "nbformat": 4,
 "nbformat_minor": 2
}
